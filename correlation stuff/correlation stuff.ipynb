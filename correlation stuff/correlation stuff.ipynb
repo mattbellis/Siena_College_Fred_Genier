{
 "cells": [
  {
   "cell_type": "code",
   "execution_count": null,
   "metadata": {
    "collapsed": true
   },
   "outputs": [],
   "source": [
    "import numpy as np\n",
    "import matplotlib.pyplot as plt\n",
    "import seaborn as sn\n",
    "import time\n",
    "%matplotlib notebook\n",
    "sn.set_style(\"whitegrid\")"
   ]
  },
  {
   "cell_type": "code",
   "execution_count": null,
   "metadata": {
    "collapsed": false
   },
   "outputs": [],
   "source": [
    "random = np.loadtxt('Gravitationally_Rigid_Intergalactic_Dimensions_10k_random.dat')\n",
    "data = np.loadtxt('Gravitationally_Rigid_Intergalactic_Dimensions_10k_data.dat')"
   ]
  },
  {
   "cell_type": "code",
   "execution_count": null,
   "metadata": {
    "collapsed": false
   },
   "outputs": [],
   "source": [
    "ngals=len(data)\n",
    "\n",
    "rr = []\n",
    "dd = []\n",
    "dr = []\n",
    "\n",
    "#dd = np.zeros(ngals*ngals)\n",
    "\n",
    "# DD\n",
    "start = time.time()\n",
    "\n",
    "for i in range(0,ngals-1):\n",
    "    pos1 = data[i]\n",
    "    pos2 = data[i+1:].transpose()\n",
    "    distance = np.sqrt((pos2[0]-pos1[0])**2+(pos2[1]-pos1[1])**2+(pos2[2]-pos2[2])**2)\n",
    "    dd += distance.tolist()\n",
    "        \n",
    "step1=time.time()\n",
    "     \n",
    "print(\"Done! (DD) Took %f seconds.\" %(step1-start))\n",
    "\n",
    "# RR\n",
    "\n",
    "for i in range(0,ngals-1):\n",
    "    pos1 = random[i]\n",
    "    pos2 = random[i+1:].transpose()\n",
    "    distance = np.sqrt((pos2[0]-pos1[0])**2+(pos2[1]-pos1[1])**2+(pos2[2]-pos2[2])**2)\n",
    "    rr += distance.tolist()\n",
    "\n",
    "step2=time.time()\n",
    "        \n",
    "print(\"Done! (RR) Took %f seconds.\" %(step2-step1))\n",
    "        \n",
    "# DR\n",
    "\n",
    "for i in range(0,ngals):\n",
    "    pos1 = data[i]\n",
    "    pos2 = random.transpose()\n",
    "    distance = np.sqrt((pos2[0]-pos1[0])**2+(pos2[1]-pos1[1])**2+(pos2[2]-pos1[2])**2)\n",
    "    dr += distance.tolist()\n",
    "\n",
    "step3=time.time()\n",
    "        \n",
    "print(\"Done! (DR) Took %f seconds.\" %(step3-step2))\n"
   ]
  },
  {
   "cell_type": "code",
   "execution_count": null,
   "metadata": {
    "collapsed": false,
    "scrolled": false
   },
   "outputs": [],
   "source": [
    "'''plt.figure()\n",
    "h1=plt.hist(dd,bins=75)\n",
    "h1norm = (ngals**2-ngals)/2.0\n",
    "\n",
    "plt.figure()\n",
    "h2=plt.hist(rr,bins=75)\n",
    "h2norm = (ngals**2-ngals)/2.0\n",
    "'''\n",
    "\n",
    "plt.figure()\n",
    "h3=plt.hist(dr,bins=75)\n",
    "h3norm = (ngals**2)\n"
   ]
  },
  {
   "cell_type": "code",
   "execution_count": null,
   "metadata": {
    "collapsed": false
   },
   "outputs": [],
   "source": []
  },
  {
   "cell_type": "code",
   "execution_count": null,
   "metadata": {
    "collapsed": false
   },
   "outputs": [],
   "source": [
    "zeta = (h1[0]/h1norm - 2*h3[0]/h3norm + h2[0]/h2norm)/(h2[0]/h2norm)"
   ]
  },
  {
   "cell_type": "code",
   "execution_count": null,
   "metadata": {
    "collapsed": false
   },
   "outputs": [],
   "source": [
    "plt.figure()\n",
    "plt.plot(h1[1][0:-1],zeta,'o')\n",
    "plt.plot(h1[1][0:-1],zeta)"
   ]
  },
  {
   "cell_type": "code",
   "execution_count": null,
   "metadata": {
    "collapsed": false
   },
   "outputs": [],
   "source": [
    "x,y,z = np.loadtxt('Gravitationally_Rigid_Intergalactic_Dimensions_10k_data.dat',unpack=True)"
   ]
  },
  {
   "cell_type": "code",
   "execution_count": null,
   "metadata": {
    "collapsed": false
   },
   "outputs": [],
   "source": [
    "from mpl_toolkits.mplot3d import Axes3D"
   ]
  },
  {
   "cell_type": "code",
   "execution_count": null,
   "metadata": {
    "collapsed": false
   },
   "outputs": [],
   "source": [
    "fig = plt.figure()\n",
    "ax = plt.axes(projection='3d')\n",
    "\n",
    "ax.scatter(x, y, z)"
   ]
  },
  {
   "cell_type": "code",
   "execution_count": null,
   "metadata": {
    "collapsed": false
   },
   "outputs": [],
   "source": [
    "plt.figure()\n",
    "plt.scatter(x,y)"
   ]
  },
  {
   "cell_type": "code",
   "execution_count": null,
   "metadata": {
    "collapsed": false
   },
   "outputs": [],
   "source": [
    "print(\"%.2e\"%(len(dr)))"
   ]
  },
  {
   "cell_type": "code",
   "execution_count": null,
   "metadata": {
    "collapsed": true
   },
   "outputs": [],
   "source": []
  }
 ],
 "metadata": {
  "kernelspec": {
   "display_name": "Python 3",
   "language": "python",
   "name": "python3"
  },
  "language_info": {
   "codemirror_mode": {
    "name": "ipython",
    "version": 3
   },
   "file_extension": ".py",
   "mimetype": "text/x-python",
   "name": "python",
   "nbconvert_exporter": "python",
   "pygments_lexer": "ipython3",
   "version": "3.6.0"
  }
 },
 "nbformat": 4,
 "nbformat_minor": 2
}
