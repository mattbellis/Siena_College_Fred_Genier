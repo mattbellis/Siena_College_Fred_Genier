{
 "cells": [
  {
   "cell_type": "code",
   "execution_count": null,
   "metadata": {
    "collapsed": true
   },
   "outputs": [],
   "source": [
    "import numpy as np\n",
    "import h5py\n",
    "import cleo_tools as cleo\n",
    "import time \n",
    "\n",
    "import matplotlib.pylab as plt\n",
    "%matplotlib notebook\n",
    "\n",
    "import seaborn as sn"
   ]
  },
  {
   "cell_type": "code",
   "execution_count": null,
   "metadata": {
    "collapsed": true
   },
   "outputs": [],
   "source": [
    "#infile = open('small_CLEO_test_file.dat')\n",
    "infile = open('data31_100k_LARGE.dat')\n",
    "collisions = cleo.get_collisions(infile)"
   ]
  },
  {
   "cell_type": "code",
   "execution_count": null,
   "metadata": {
    "collapsed": true
   },
   "outputs": [],
   "source": [
    "lp = []\n",
    "lk = []\n",
    "lm = []\n",
    "le = []\n",
    "lph = []\n",
    "\n",
    "pis = []\n",
    "kas = []\n",
    "mus = []\n",
    "els = []\n",
    "phs = []\n",
    "\n",
    "for collision in collisions:\n",
    "    \n",
    "    pions,kaons,muons,electrons,photons = collision\n",
    "    npi = len(pions)\n",
    "    nka = len(kaons)\n",
    "    nmu = len(muons)\n",
    "    nel = len(electrons)\n",
    "    nph = len(photons)\n",
    "    \n",
    "    lp.append(npi)\n",
    "    lk.append(nka)\n",
    "    lm.append(nmu)\n",
    "    le.append(nel)\n",
    "    lph.append(nph)\n",
    "    \n",
    "    for pion in pions:\n",
    "        pis.append(pion)\n",
    "    \n",
    "    for kaon in kaons:\n",
    "        kas.append(kaon)\n",
    "        \n",
    "    for muon in muons:\n",
    "        mus.append(muon)\n",
    "    \n",
    "    for electron in electrons:\n",
    "        els.append(electron)\n",
    "    \n",
    "    for photon in photons:\n",
    "        phs.append(photon)\n",
    "\n",
    "        \n",
    "entries = [\"pions\",\"kaons\",\"muons\",\"electrons\",\"photons\"]"
   ]
  },
  {
   "cell_type": "code",
   "execution_count": null,
   "metadata": {
    "collapsed": false
   },
   "outputs": [],
   "source": [
    "alg = 'lzf'\n",
    "\n",
    "hf = h5py.File('self_defined_cleo.hdf5','r')\n",
    "#hf.close()\n",
    "'''\n",
    "hf.create_dataset('entries',data=entries)\n",
    "\n",
    "hf.create_dataset('npions',data=lp)\n",
    "hf.create_dataset('nkaons',data=lk)\n",
    "hf.create_dataset('nmuons',data=lm)\n",
    "hf.create_dataset('nelectrons',data=le)\n",
    "hf.create_dataset('nphotons',data=lph)\n",
    "\n",
    "g1 = hf.create_group('particles')\n",
    "\n",
    "g1.create_dataset('pions',data=pis)\n",
    "g1.create_dataset('kaons',data=kas)\n",
    "g1.create_dataset('muons',data=mus)\n",
    "g1.create_dataset('electrons',data=els)\n",
    "g1.create_dataset('photons',data=phs)\n",
    "\n",
    "hf.close()\n",
    "'''"
   ]
  },
  {
   "cell_type": "code",
   "execution_count": null,
   "metadata": {
    "collapsed": false
   },
   "outputs": [],
   "source": [
    "hf.close()"
   ]
  },
  {
   "cell_type": "code",
   "execution_count": null,
   "metadata": {
    "collapsed": true
   },
   "outputs": [],
   "source": [
    "#hf = h5py.File('self_defined_cleo.hdf5','r') "
   ]
  },
  {
   "cell_type": "code",
   "execution_count": null,
   "metadata": {
    "collapsed": true
   },
   "outputs": [],
   "source": [
    "#entries = hf.get(\"entries\")"
   ]
  },
  {
   "cell_type": "code",
   "execution_count": null,
   "metadata": {
    "collapsed": false
   },
   "outputs": [],
   "source": [
    "#entries.value[0]"
   ]
  },
  {
   "cell_type": "code",
   "execution_count": null,
   "metadata": {
    "collapsed": true
   },
   "outputs": [],
   "source": [
    "def get_entries(filename,entry_names):\n",
    "    \n",
    "    hf = h5py.File(filename,'r') \n",
    "    \n",
    "    entries = {}\n",
    "    \n",
    "    for name in entry_names:\n",
    "        num_name = \"n%s\" % (name)\n",
    "        entries[num_name] = hf.get(num_name).value\n",
    "        particle_name = \"particles/%s\" % (name)\n",
    "        entries[name] = hf.get(particle_name).value\n",
    "        \n",
    "    hf.close()\n",
    "        \n",
    "    return entries"
   ]
  },
  {
   "cell_type": "code",
   "execution_count": null,
   "metadata": {
    "collapsed": true
   },
   "outputs": [],
   "source": [
    "data = get_entries('self_defined_cleo.hdf5',entries)"
   ]
  },
  {
   "cell_type": "code",
   "execution_count": null,
   "metadata": {
    "collapsed": false
   },
   "outputs": [],
   "source": [
    "e = data[\"pions\"].transpose()[0]"
   ]
  },
  {
   "cell_type": "code",
   "execution_count": null,
   "metadata": {
    "collapsed": false
   },
   "outputs": [],
   "source": [
    "plt.figure()\n",
    "plt.hist(e,bins=50);"
   ]
  },
  {
   "cell_type": "code",
   "execution_count": null,
   "metadata": {
    "collapsed": true
   },
   "outputs": [],
   "source": []
  }
 ],
 "metadata": {
  "kernelspec": {
   "display_name": "Python 2",
   "language": "python",
   "name": "python2"
  },
  "language_info": {
   "codemirror_mode": {
    "name": "ipython",
    "version": 2
   },
   "file_extension": ".py",
   "mimetype": "text/x-python",
   "name": "python",
   "nbconvert_exporter": "python",
   "pygments_lexer": "ipython2",
   "version": "2.7.11"
  }
 },
 "nbformat": 4,
 "nbformat_minor": 0
}
