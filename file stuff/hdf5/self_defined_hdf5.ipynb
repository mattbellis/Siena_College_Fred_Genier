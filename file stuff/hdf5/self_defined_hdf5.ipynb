{
 "cells": [
  {
   "cell_type": "code",
   "execution_count": null,
   "metadata": {
    "collapsed": true
   },
   "outputs": [],
   "source": [
    "import numpy as np\n",
    "import h5py\n",
    "import cleo_tools as cleo\n",
    "import time \n",
    "\n",
    "import matplotlib.pylab as plt\n",
    "%matplotlib notebook\n",
    "\n",
    "import seaborn as sn"
   ]
  },
  {
   "cell_type": "code",
   "execution_count": null,
   "metadata": {
    "collapsed": false
   },
   "outputs": [],
   "source": [
    "infile = open('small_CLEO_test_file.dat')\n",
    "#infile = open('data31_100k_LARGE.dat')\n",
    "collisions = cleo.get_collisions(infile)"
   ]
  },
  {
   "cell_type": "code",
   "execution_count": null,
   "metadata": {
    "collapsed": true
   },
   "outputs": [],
   "source": [
    "lp = []\n",
    "lk = []\n",
    "lm = []\n",
    "le = []\n",
    "lph = []\n",
    "\n",
    "pis = []\n",
    "kas = []\n",
    "mus = []\n",
    "els = []\n",
    "phs = []\n",
    "\n",
    "for collision in collisions:\n",
    "    \n",
    "    pions,kaons,muons,electrons,photons = collision\n",
    "    npi = len(pions)\n",
    "    nka = len(kaons)\n",
    "    nmu = len(muons)\n",
    "    nel = len(electrons)\n",
    "    nph = len(photons)\n",
    "    \n",
    "    lp.append(npi)\n",
    "    lk.append(nka)\n",
    "    lm.append(nmu)\n",
    "    le.append(nel)\n",
    "    lph.append(nph)\n",
    "    \n",
    "    for pion in pions:\n",
    "        pis.append(pion)\n",
    "    \n",
    "    for kaon in kaons:\n",
    "        kas.append(kaon)\n",
    "        \n",
    "    for muon in muons:\n",
    "        mus.append(muon)\n",
    "    \n",
    "    for electron in electrons:\n",
    "        els.append(electron)\n",
    "    \n",
    "    for photon in photons:\n",
    "        phs.append(photon)\n",
    "\n",
    "        \n",
    "entries = [\"pions\",\"kaons\",\"muons\",\"electrons\",\"photons\"]"
   ]
  },
  {
   "cell_type": "code",
   "execution_count": null,
   "metadata": {
    "collapsed": false
   },
   "outputs": [],
   "source": [
    "alg = 'lzf'\n",
    "\n",
    "hf = h5py.File('self_defined_cleo.hdf5','w')\n",
    "#hf.close()\n",
    "#'''\n",
    "hf.create_dataset('entries',data=entries)\n",
    "\n",
    "hf.create_dataset('npions',data=lp,compression=\"gzip\", compression_opts=9)\n",
    "hf.create_dataset('nkaons',data=lk,compression=\"gzip\", compression_opts=9)\n",
    "hf.create_dataset('nmuons',data=lm,compression=\"gzip\", compression_opts=9)\n",
    "hf.create_dataset('nelectrons',data=le,compression=\"gzip\", compression_opts=9)\n",
    "hf.create_dataset('nphotons',data=lph,compression=\"gzip\", compression_opts=9)\n",
    "\n",
    "g1 = hf.create_group('particles')\n",
    "\n",
    "g1.create_dataset('pions',data=pis,compression=\"gzip\", compression_opts=9)\n",
    "g1.create_dataset('kaons',data=kas,compression=\"gzip\", compression_opts=9)\n",
    "g1.create_dataset('muons',data=mus,compression=\"gzip\", compression_opts=9)\n",
    "g1.create_dataset('electrons',data=els,compression=\"gzip\", compression_opts=9)\n",
    "g1.create_dataset('photons',data=phs,compression=\"gzip\", compression_opts=9)\n",
    "\n",
    "hf.close()\n",
    "#'''"
   ]
  },
  {
   "cell_type": "code",
   "execution_count": null,
   "metadata": {
    "collapsed": false
   },
   "outputs": [],
   "source": [
    "#hf.close()"
   ]
  },
  {
   "cell_type": "code",
   "execution_count": null,
   "metadata": {
    "collapsed": true
   },
   "outputs": [],
   "source": [
    "#hf = h5py.File('self_defined_cleo.hdf5','r') "
   ]
  },
  {
   "cell_type": "code",
   "execution_count": null,
   "metadata": {
    "collapsed": true
   },
   "outputs": [],
   "source": [
    "#entries = hf.get(\"entries\")"
   ]
  },
  {
   "cell_type": "code",
   "execution_count": null,
   "metadata": {
    "collapsed": false
   },
   "outputs": [],
   "source": [
    "#entries.value[0]"
   ]
  },
  {
   "cell_type": "code",
   "execution_count": null,
   "metadata": {
    "collapsed": true
   },
   "outputs": [],
   "source": [
    "def get_entries(filename,entry_names):\n",
    "    \n",
    "    hf = h5py.File(filename,'r') \n",
    "    \n",
    "    entries = {}\n",
    "    \n",
    "    for name in entry_names:\n",
    "        num_name = \"n%s\" % (name)\n",
    "        entries[num_name] = hf.get(num_name).value\n",
    "        particle_name = \"particles/%s\" % (name)\n",
    "        entries[name] = hf.get(particle_name).value\n",
    "        \n",
    "    hf.close()\n",
    "        \n",
    "    return entries"
   ]
  },
  {
   "cell_type": "code",
   "execution_count": null,
   "metadata": {
    "collapsed": true
   },
   "outputs": [],
   "source": [
    "data = get_entries('self_defined_cleo.hdf5',entries)"
   ]
  },
  {
   "cell_type": "code",
   "execution_count": null,
   "metadata": {
    "collapsed": false
   },
   "outputs": [],
   "source": [
    "e = data[\"pions\"].transpose()[0]"
   ]
  },
  {
   "cell_type": "code",
   "execution_count": null,
   "metadata": {
    "collapsed": false
   },
   "outputs": [],
   "source": [
    "plt.figure()\n",
    "plt.hist(e,bins=100,range=(0,1));"
   ]
  },
  {
   "cell_type": "code",
   "execution_count": null,
   "metadata": {
    "collapsed": true
   },
   "outputs": [],
   "source": [
    "def close_all_hdf_files():\n",
    "    import gc\n",
    "    for obj in gc.get_objects():   # Browse through ALL objects\n",
    "        if isinstance(obj, h5py.File):   # Just HDF5 files\n",
    "            try:\n",
    "                obj.close()\n",
    "            except:\n",
    "                pass # Was already closed"
   ]
  },
  {
   "cell_type": "code",
   "execution_count": null,
   "metadata": {
    "collapsed": false
   },
   "outputs": [],
   "source": [
    "close_all_hdf_files()"
   ]
  },
  {
   "cell_type": "code",
   "execution_count": null,
   "metadata": {
    "collapsed": true
   },
   "outputs": [],
   "source": [
    "pis_trans = np.array(pis).transpose()\n",
    "e = pis_trans[0]\n",
    "px = pis_trans[1]\n",
    "py = pis_trans[2]\n",
    "pz = pis_trans[3]\n",
    "q = pis_trans[4]"
   ]
  },
  {
   "cell_type": "code",
   "execution_count": null,
   "metadata": {
    "collapsed": false
   },
   "outputs": [],
   "source": [
    "# More complicated version\n",
    "#h5py.File('self_defined_cleo_MORE_COMPLICATED.hdf5','r').close()\n",
    "#hf.close()\n",
    "with h5py.File('self_defined_cleo_MORE_COMPLICATED.hdf5','w',) as hf:\n",
    "    #hf.close()\n",
    "    #'''\n",
    "    hf.create_dataset('entries',data=entries)\n",
    "\n",
    "    groupnames = [\"pions\",\"kaons\",\"muons\",\"electrons\",\"photons\"]\n",
    "    groupvars = [pis,kas,mus,els,phs]\n",
    "    numbers = [lp,lk,lm,le,lph]\n",
    "    fields = [\"e\",\"px\",\"py\",\"pz\",\"q\"]\n",
    "\n",
    "    for groupname,groupvar,number in zip(groupnames,groupvars,numbers):\n",
    "\n",
    "        g = hf.create_group(groupname)\n",
    "\n",
    "        trans = np.array(groupvar).transpose()\n",
    "        e = trans[0]\n",
    "        px = trans[1]\n",
    "        py = trans[2]\n",
    "        pz = trans[3]\n",
    "        \n",
    "        if groupname is not \"photons\":\n",
    "            q = trans[4]\n",
    "\n",
    "        g.create_dataset(\"e\",data=e,compression=\"gzip\", compression_opts=9)\n",
    "        g.create_dataset(\"px\",data=px,compression=\"gzip\", compression_opts=9)\n",
    "        g.create_dataset(\"py\",data=py,compression=\"gzip\", compression_opts=9)\n",
    "        g.create_dataset(\"pz\",data=pz,compression=\"gzip\", compression_opts=9)\n",
    "        \n",
    "        if groupname is not \"photons\":\n",
    "            g.create_dataset(\"q\",data=q,compression=\"gzip\", compression_opts=9)\n",
    "\n",
    "        g.create_dataset(\"n\",data=number,compression=\"gzip\", compression_opts=9)\n",
    "\n",
    "        del trans\n",
    "\n",
    "    hf.close()"
   ]
  },
  {
   "cell_type": "code",
   "execution_count": null,
   "metadata": {
    "collapsed": false
   },
   "outputs": [],
   "source": [
    "#close_all_hdf_files()"
   ]
  },
  {
   "cell_type": "code",
   "execution_count": null,
   "metadata": {
    "collapsed": false
   },
   "outputs": [],
   "source": [
    "#len(pis_trans[0])"
   ]
  },
  {
   "cell_type": "code",
   "execution_count": null,
   "metadata": {
    "collapsed": true
   },
   "outputs": [],
   "source": [
    "with h5py.File('self_defined_cleo_MORE_COMPLICATED.hdf5','r') as hf:\n",
    "    \n",
    "    e = hf.get(\"pions/e\").value\n"
   ]
  },
  {
   "cell_type": "code",
   "execution_count": null,
   "metadata": {
    "collapsed": false
   },
   "outputs": [],
   "source": [
    "print len(e)\n",
    "plt.figure()\n",
    "plt.hist(e,bins=100,range=(0,1));"
   ]
  },
  {
   "cell_type": "code",
   "execution_count": null,
   "metadata": {
    "collapsed": false
   },
   "outputs": [],
   "source": [
    "def get_entries_complicated(filename,entry_names):\n",
    "\n",
    "    fields = [\"n\",\"e\",\"px\",\"py\",\"pz\",\"q\"]\n",
    "\n",
    "    entries = {}\n",
    "    \n",
    "    with h5py.File(filename,'r') as hf:\n",
    "        for name in entry_names:\n",
    "\n",
    "            sub_entry = {}\n",
    "\n",
    "            for field in fields:\n",
    "                entry_name = \"%s/%s\" % (name,field)\n",
    "                #key_name = \"%s.%s\" % (name,field)\n",
    "                #print entry_name\n",
    "                sub_entry[field] = hf.get(entry_name).value\n",
    "            entries[name] = sub_entry\n",
    "        hf.close()\n",
    "        \n",
    "    return entries"
   ]
  },
  {
   "cell_type": "code",
   "execution_count": null,
   "metadata": {
    "collapsed": false
   },
   "outputs": [],
   "source": [
    "values = get_entries_complicated(\"self_defined_cleo_MORE_COMPLICATED.hdf5\",[\"pions\"])"
   ]
  },
  {
   "cell_type": "code",
   "execution_count": null,
   "metadata": {
    "collapsed": false
   },
   "outputs": [],
   "source": [
    "values.keys()"
   ]
  },
  {
   "cell_type": "code",
   "execution_count": null,
   "metadata": {
    "collapsed": false
   },
   "outputs": [],
   "source": [
    "e = values[\"pions\"][\"pz\"]\n",
    "plt.figure()\n",
    "plt.hist(e,bins=100,range=(0,1));"
   ]
  },
  {
   "cell_type": "code",
   "execution_count": null,
   "metadata": {
    "collapsed": true
   },
   "outputs": [],
   "source": [
    "def get_event(values,nevent=0,return_dicts=False):\n",
    "    \n",
    "    keys = values.keys()\n",
    "    \n",
    "    ret = {}\n",
    "    \n",
    "    for key in keys:\n",
    "        ret[key] = {}\n",
    "        print key\n",
    "        \n",
    "        n = values[key][\"n\"]\n",
    "        start = sum(n[0:nevent])\n",
    "        end = start + n[nevent]\n",
    "        print start,end\n",
    "\n",
    "        sub_keys = values[key].keys()\n",
    "        sub_keys.remove(\"n\")\n",
    "        \n",
    "        if return_dicts:\n",
    "            for sk in sub_keys:\n",
    "                ret[key][sk] = values[key][sk][start:end]        \n",
    "        else:\n",
    "            vals = []\n",
    "            for sk in sub_keys:\n",
    "                vals.append(values[key][sk][start:end])\n",
    "            vals = np.array(vals).transpose()\n",
    "            ret[key] = vals\n",
    "                            \n",
    "    return ret"
   ]
  },
  {
   "cell_type": "code",
   "execution_count": null,
   "metadata": {
    "collapsed": false
   },
   "outputs": [],
   "source": [
    "x = get_event(values,11,return_dicts=True)"
   ]
  },
  {
   "cell_type": "code",
   "execution_count": null,
   "metadata": {
    "collapsed": false
   },
   "outputs": [],
   "source": [
    "x[\"pions\"]"
   ]
  },
  {
   "cell_type": "code",
   "execution_count": null,
   "metadata": {
    "collapsed": false
   },
   "outputs": [],
   "source": [
    "x = get_event(values,11)"
   ]
  },
  {
   "cell_type": "code",
   "execution_count": null,
   "metadata": {
    "collapsed": false
   },
   "outputs": [],
   "source": [
    "x[\"pions\"]"
   ]
  },
  {
   "cell_type": "code",
   "execution_count": null,
   "metadata": {
    "collapsed": false
   },
   "outputs": [],
   "source": [
    "for pion in x[\"pions\"]:\n",
    "    e,px,py,pz,q = pion\n",
    "    print pion"
   ]
  },
  {
   "cell_type": "code",
   "execution_count": null,
   "metadata": {
    "collapsed": true
   },
   "outputs": [],
   "source": []
  },
  {
   "cell_type": "code",
   "execution_count": null,
   "metadata": {
    "collapsed": true
   },
   "outputs": [],
   "source": []
  }
 ],
 "metadata": {
  "kernelspec": {
   "display_name": "Python 2",
   "language": "python",
   "name": "python2"
  },
  "language_info": {
   "codemirror_mode": {
    "name": "ipython",
    "version": 2
   },
   "file_extension": ".py",
   "mimetype": "text/x-python",
   "name": "python",
   "nbconvert_exporter": "python",
   "pygments_lexer": "ipython2",
   "version": "2.7.11"
  }
 },
 "nbformat": 4,
 "nbformat_minor": 0
}
