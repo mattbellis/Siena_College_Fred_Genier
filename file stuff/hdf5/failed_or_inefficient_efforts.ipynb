{
 "cells": [
  {
   "cell_type": "code",
   "execution_count": 1,
   "metadata": {
    "collapsed": true
   },
   "outputs": [],
   "source": [
    "import cleo_tools as cleo\n",
    "import numpy as np\n",
    "import h5py\n",
    "from math import sqrt\n",
    "\n",
    "import matplotlib.pylab as plt\n",
    "import seaborn as sn\n",
    "\n",
    "%matplotlib notebook"
   ]
  },
  {
   "cell_type": "code",
   "execution_count": 2,
   "metadata": {
    "collapsed": true
   },
   "outputs": [],
   "source": [
    "'''\n",
    "\n",
    "with h5py.File('cleo_test_large_zip','a') as hf:\n",
    "    \n",
    "    for i in xrange(0,len(collisions)):\n",
    "        \n",
    "        ev = 'event%d' % (i)\n",
    "        \n",
    "        event = hf.create_group(ev)\n",
    "        pi = hf.create_group('%s/pions' % (ev))\n",
    "        ka = hf.create_group('%s/kaons' % (ev))\n",
    "        mu = hf.create_group('%s/muons' % (ev))\n",
    "        e = hf.create_group('%s/electrons' % (ev))\n",
    "        ph = hf.create_group('%s/photons' % (ev))\n",
    "        \n",
    "        collision = collisions[i]\n",
    "\n",
    "        pions,kaons,muons,electrons,photons = collision\n",
    "\n",
    "        for j in xrange(0,len(pions)):\n",
    "\n",
    "            npions = 'pion%s' % (j) \n",
    "\n",
    "            pion = pions[j]\n",
    "\n",
    "            pi.create_dataset(npions,data = pion,compression=\"gzip\", compression_opts=9)\n",
    "\n",
    "        for k in xrange(0,len(kaons)):\n",
    "\n",
    "            nkaons = 'kaon%s' % (k) \n",
    "\n",
    "            kaon = kaons[k]\n",
    "\n",
    "            ka.create_dataset(nkaons,data = kaon,compression=\"gzip\", compression_opts=9)\n",
    "\n",
    "        for l in xrange(0,len(muons)):\n",
    "\n",
    "            nmuons = 'muon%s' % (l)\n",
    "\n",
    "            muon = muons[l]\n",
    "\n",
    "            mu.create_dataset(nmuons,data = muon,compression=\"gzip\", compression_opts=9)\n",
    "\n",
    "        for m in xrange(0,len(electrons)):\n",
    "\n",
    "            nelectrons = 'electron%s' % (m)\n",
    "\n",
    "            electron = electrons[m]\n",
    "                \n",
    "            e.create_dataset(nelectrons,data = electron,compression=\"gzip\", compression_opts=9)\n",
    "\n",
    "        for n in xrange(0,len(photons)):\n",
    "\n",
    "            nphotons = 'photon%s' % (n)\n",
    "\n",
    "            photon = photons[n]\n",
    "            \n",
    "            ph.create_dataset(nphotons,data = photon,compression=\"gzip\", compression_opts=9)\n",
    "            \n",
    "\n",
    "''';\n",
    "\n",
    "# This is a poor file structure. Due to the complex nature of the filesystem and the MASSIVE number of datasets\n",
    "# file size increases dramatically. "
   ]
  },
  {
   "cell_type": "code",
   "execution_count": null,
   "metadata": {
    "collapsed": true
   },
   "outputs": [],
   "source": []
  }
 ],
 "metadata": {
  "kernelspec": {
   "display_name": "Python 2",
   "language": "python",
   "name": "python2"
  },
  "language_info": {
   "codemirror_mode": {
    "name": "ipython",
    "version": 2
   },
   "file_extension": ".py",
   "mimetype": "text/x-python",
   "name": "python",
   "nbconvert_exporter": "python",
   "pygments_lexer": "ipython2",
   "version": "2.7.11"
  }
 },
 "nbformat": 4,
 "nbformat_minor": 0
}
