{
 "cells": [
  {
   "cell_type": "code",
   "execution_count": 1,
   "metadata": {
    "collapsed": false
   },
   "outputs": [],
   "source": [
    "import cleo_tools as cleo\n",
    "import numpy as np\n",
    "import h5py\n",
    "from math import sqrt\n",
    "\n",
    "import matplotlib.pylab as plt\n",
    "import seaborn as sn\n",
    "\n",
    "import time\n",
    "\n",
    "import os\n",
    "\n",
    "import cleo_conveter as cc\n",
    "\n",
    "%matplotlib notebook"
   ]
  },
  {
   "cell_type": "code",
   "execution_count": 2,
   "metadata": {
    "collapsed": true
   },
   "outputs": [],
   "source": [
    "def mass(e,px,py,pz):\n",
    "    m2 = (e**2) - (px**2)+(py**2)+(pz**2)\n",
    "    if m2>=0:\n",
    "        return sqrt(m2)\n",
    "    else:\n",
    "        return -sqrt(-m2)\n"
   ]
  },
  {
   "cell_type": "code",
   "execution_count": 3,
   "metadata": {
    "collapsed": true
   },
   "outputs": [],
   "source": [
    "tests = []\n",
    "read_times = []\n",
    "process_times = []\n",
    "file_sizes = []"
   ]
  },
  {
   "cell_type": "code",
   "execution_count": 4,
   "metadata": {
    "collapsed": false
   },
   "outputs": [],
   "source": [
    "#infilename = 'small_CLEO_test_file.dat'\n",
    "infilename = 'data31_100k_LARGE.dat'\n",
    "#infilename = 'Single_Dp_to_Kpipi_ISR.dat'\n",
    "#infilename = 'Single_Dm_to_Kpipi_ISR.dat'\n",
    "\n",
    "infilenames = ['data31_100k_LARGE.dat','data31_100k_LARGE.zip']"
   ]
  },
  {
   "cell_type": "code",
   "execution_count": 12,
   "metadata": {
    "collapsed": false
   },
   "outputs": [
    {
     "name": "stdout",
     "output_type": "stream",
     "text": [
      "Time to read in data is 6.772635 seconds\n",
      "File size in Mb 67.569610\n",
      "Unzipping!!!!\n",
      "Time to read in data is 10.656246 seconds\n",
      "File size in Mb 22.422102\n"
     ]
    }
   ],
   "source": [
    "for infilename in infilenames:\n",
    "    start = time.time()\n",
    "\n",
    "    #infile = open(infilename)\n",
    "    collisions = cc.get_collisions(infilename,filetype='txt',returntype='lists')\n",
    "\n",
    "    read_time = time.time() - start\n",
    "    print \"Time to read in data is %f seconds\" % (read_time)\n",
    "    read_times.append(read_time)\n",
    "\n",
    "    tests.append(\"Text file\")\n",
    "    file_size = os.path.getsize(infilename)/1e6\n",
    "    print \"File size in Mb %f\" % (file_size)\n",
    "    file_sizes.append(file_size)"
   ]
  },
  {
   "cell_type": "code",
   "execution_count": 13,
   "metadata": {
    "collapsed": false
   },
   "outputs": [],
   "source": [
    "#import zipfile\n",
    "#z = zipfile.ZipFile(infilenames[1],'r')"
   ]
  },
  {
   "cell_type": "code",
   "execution_count": 14,
   "metadata": {
    "collapsed": false
   },
   "outputs": [],
   "source": [
    "#z.namelist()"
   ]
  },
  {
   "cell_type": "code",
   "execution_count": null,
   "metadata": {
    "collapsed": false
   },
   "outputs": [],
   "source": [
    "masses0 = []\n",
    "\n",
    "start = time.time()\n",
    "\n",
    "for collision in collisions:\n",
    "    \n",
    "    pions,kaons,muons,electrons,photons = collision\n",
    "\n",
    "    npions = len(pions)\n",
    "    nkaons = len(kaons)\n",
    "    \n",
    "    if npions>=2 and nkaons>=1:\n",
    "        \n",
    "        for i in range(0,npions-1):\n",
    "            pion0 = pions[i]\n",
    "            for j in range(i+1,npions):\n",
    "                pion1 = pions[j]\n",
    "                for k in range(0,nkaons):\n",
    "                    kaon = kaons[k]\n",
    "                    \n",
    "                    # Check the charges\n",
    "                    if pion0[4]==pion1[4] and pion0[4]==-kaon[4]:\n",
    "                        e = pion0[0] + pion1[0] + kaon[0]\n",
    "                        px = pion0[1] + pion1[1] + kaon[1]\n",
    "                        py = pion0[2] + pion1[2] + kaon[2]\n",
    "                        pz = pion0[3] + pion1[3] + kaon[3]\n",
    "                        \n",
    "                        m = mass(e,px,py,pz)\n",
    "                        \n",
    "                        masses0.append(m)\n",
    "\n",
    "                        \n",
    "process_time = time.time() - start\n",
    "print \"Time to run over the data is %f seconds\" % (process_time)\n",
    "process_times.append(process_time)"
   ]
  },
  {
   "cell_type": "code",
   "execution_count": null,
   "metadata": {
    "collapsed": false
   },
   "outputs": [],
   "source": [
    "plt.figure(figsize=(4,4))\n",
    "plt.hist(masses0,bins=100,range=(1.5,2.5));"
   ]
  },
  {
   "cell_type": "code",
   "execution_count": null,
   "metadata": {
    "collapsed": false
   },
   "outputs": [],
   "source": [
    "len(collisions)"
   ]
  },
  {
   "cell_type": "code",
   "execution_count": null,
   "metadata": {
    "collapsed": false
   },
   "outputs": [],
   "source": [
    "# Alternative way to run over the code\n",
    "tests.append(\"Text file - unpack to variables\")\n",
    "read_times.append(read_time)\n",
    "file_sizes.append(file_size)\n",
    "\n",
    "masses1 = []\n",
    "\n",
    "start = time.time()\n",
    "\n",
    "for collision in collisions:\n",
    "    \n",
    "    pions,kaons,muons,electrons,photons = collision\n",
    "\n",
    "    npions = len(pions)\n",
    "    nkaons = len(kaons)\n",
    "    \n",
    "    if npions>=2 and nkaons>=1:\n",
    "        \n",
    "        for i in range(0,npions-1):\n",
    "            e_pi0,px_pi0,py_pi0,pz_pi0,q_pi0 = pions[i][0:5]\n",
    "            for j in range(i+1,npions):\n",
    "                e_pi1,px_pi1,py_pi1,pz_pi1,q_pi1 = pions[j][0:5]\n",
    "                for k in range(0,nkaons):\n",
    "                    e_k,px_k,py_k,pz_k,q_k = kaons[k][0:5]\n",
    "                    \n",
    "                    # Check the charges\n",
    "                    if q_pi0==q_pi1 and q_pi0==-q_k:\n",
    "                        e =  e_pi0  + e_pi1  + e_k\n",
    "                        px = px_pi0 + px_pi1 + px_k\n",
    "                        py = py_pi0 + py_pi1 + py_k\n",
    "                        pz = pz_pi0 + pz_pi1 + pz_k\n",
    "                        \n",
    "                        m = mass(e,px,py,pz)\n",
    "                        \n",
    "                        masses1.append(m)\n",
    "\n",
    "process_time = time.time()-start\n",
    "print \"Time to run over the data is %f seconds\" % (process_time)\n",
    "process_times.append(process_time)\n",
    "                        "
   ]
  },
  {
   "cell_type": "code",
   "execution_count": null,
   "metadata": {
    "collapsed": false
   },
   "outputs": [],
   "source": [
    "plt.figure(figsize=(4,4))\n",
    "plt.hist(masses1,bins=100,range=(1.5,2.5));"
   ]
  },
  {
   "cell_type": "code",
   "execution_count": null,
   "metadata": {
    "collapsed": false
   },
   "outputs": [],
   "source": [
    "print len(masses0)\n",
    "print len(masses1)"
   ]
  },
  {
   "cell_type": "code",
   "execution_count": null,
   "metadata": {
    "collapsed": false
   },
   "outputs": [],
   "source": [
    "diff = np.array(masses0) - np.array(masses1)\n",
    "print diff[diff!=0]"
   ]
  },
  {
   "cell_type": "code",
   "execution_count": null,
   "metadata": {
    "collapsed": false
   },
   "outputs": [],
   "source": [
    "sn.set_style('whitegrid')\n",
    "\n",
    "plt.figure(figsize=(10,5))\n",
    "plt.subplot(1,2,1)\n",
    "for x,y,l in zip(file_sizes,read_times,tests):\n",
    "    plt.plot(x,y,'o',label=l,markersize=10)\n",
    "plt.xlabel(\"File size (MB)\",fontsize=18)\n",
    "plt.ylabel(\"Read time (s)\",fontsize=18)\n",
    "plt.ylim(0,10)\n",
    "plt.legend()\n",
    "\n",
    "plt.subplot(1,2,2)\n",
    "for x,y,l in zip(file_sizes,process_times,tests):\n",
    "    plt.plot(x,y,'o',label=l,markersize=10)\n",
    "plt.xlabel(\"File size (MB)\",fontsize=18)\n",
    "plt.ylabel(\"Process time (s)\",fontsize=18)\n",
    "#plt.ylim(0.3,0.4)\n",
    "plt.legend()\n",
    "\n",
    "plt.tight_layout()"
   ]
  },
  {
   "cell_type": "code",
   "execution_count": null,
   "metadata": {
    "collapsed": true
   },
   "outputs": [],
   "source": []
  }
 ],
 "metadata": {
  "kernelspec": {
   "display_name": "Python 2",
   "language": "python",
   "name": "python2"
  },
  "language_info": {
   "codemirror_mode": {
    "name": "ipython",
    "version": 2
   },
   "file_extension": ".py",
   "mimetype": "text/x-python",
   "name": "python",
   "nbconvert_exporter": "python",
   "pygments_lexer": "ipython2",
   "version": "2.7.11"
  }
 },
 "nbformat": 4,
 "nbformat_minor": 0
}
