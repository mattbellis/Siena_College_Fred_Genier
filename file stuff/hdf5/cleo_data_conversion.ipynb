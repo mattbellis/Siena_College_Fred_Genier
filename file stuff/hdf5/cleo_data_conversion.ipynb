{
 "cells": [
  {
   "cell_type": "code",
   "execution_count": 1,
   "metadata": {
    "collapsed": false
   },
   "outputs": [
    {
     "name": "stderr",
     "output_type": "stream",
     "text": [
      "/home/fred/anaconda2/lib/python2.7/site-packages/matplotlib/font_manager.py:273: UserWarning: Matplotlib is building the font cache using fc-list. This may take a moment.\n",
      "  warnings.warn('Matplotlib is building the font cache using fc-list. This may take a moment.')\n"
     ]
    }
   ],
   "source": [
    "import cleo_tools as cleo\n",
    "import numpy as np\n",
    "import h5py"
   ]
  },
  {
   "cell_type": "code",
   "execution_count": 2,
   "metadata": {
    "collapsed": false
   },
   "outputs": [],
   "source": [
    "infile = open('small_CLEO_test_file.dat')\n",
    "collisions = cleo.get_collisions(infile)\n",
    "\n",
    "#for i in range(0,1):\n",
    "#    collision = collisions[i]\n",
    "#    pions,kaons,muons,electrons,photons = collision\n",
    "#    print len(pions)"
   ]
  },
  {
   "cell_type": "code",
   "execution_count": null,
   "metadata": {
    "collapsed": false
   },
   "outputs": [],
   "source": [
    "'''\n",
    "\n",
    "with h5py.File('cleo_test_large_zip','a') as hf:\n",
    "    \n",
    "    for i in xrange(0,len(collisions)):\n",
    "        \n",
    "        ev = 'event%d' % (i)\n",
    "        \n",
    "        event = hf.create_group(ev)\n",
    "        pi = hf.create_group('%s/pions' % (ev))\n",
    "        ka = hf.create_group('%s/kaons' % (ev))\n",
    "        mu = hf.create_group('%s/muons' % (ev))\n",
    "        e = hf.create_group('%s/electrons' % (ev))\n",
    "        ph = hf.create_group('%s/photons' % (ev))\n",
    "        \n",
    "        collision = collisions[i]\n",
    "\n",
    "        pions,kaons,muons,electrons,photons = collision\n",
    "\n",
    "        for j in xrange(0,len(pions)):\n",
    "\n",
    "            npions = 'pion%s' % (j) \n",
    "\n",
    "            pion = pions[j]\n",
    "\n",
    "            pi.create_dataset(npions,data = pion,compression=\"gzip\", compression_opts=9)\n",
    "\n",
    "        for k in xrange(0,len(kaons)):\n",
    "\n",
    "            nkaons = 'kaon%s' % (k) \n",
    "\n",
    "            kaon = kaons[k]\n",
    "\n",
    "            ka.create_dataset(nkaons,data = kaon,compression=\"gzip\", compression_opts=9)\n",
    "\n",
    "        for l in xrange(0,len(muons)):\n",
    "\n",
    "            nmuons = 'muon%s' % (l)\n",
    "\n",
    "            muon = muons[l]\n",
    "\n",
    "            mu.create_dataset(nmuons,data = muon,compression=\"gzip\", compression_opts=9)\n",
    "\n",
    "        for m in xrange(0,len(electrons)):\n",
    "\n",
    "            nelectrons = 'electron%s' % (m)\n",
    "\n",
    "            electron = electrons[m]\n",
    "                \n",
    "            e.create_dataset(nelectrons,data = electron,compression=\"gzip\", compression_opts=9)\n",
    "\n",
    "        for n in xrange(0,len(photons)):\n",
    "\n",
    "            nphotons = 'photon%s' % (n)\n",
    "\n",
    "            photon = photons[n]\n",
    "            \n",
    "            ph.create_dataset(nphotons,data = photon,compression=\"gzip\", compression_opts=9)\n",
    "            \n",
    "\n",
    "''';\n",
    "\n",
    "# This is a poor file structure. Due to the complex nature of the filesystem and the MASSIVE number of datasets\n",
    "# file size increases dramatically. "
   ]
  },
  {
   "cell_type": "code",
   "execution_count": 5,
   "metadata": {
    "collapsed": false
   },
   "outputs": [],
   "source": [
    "# get the number of particles in a given event\n",
    "\n",
    "lp = []\n",
    "lk = []\n",
    "lm = []\n",
    "le = []\n",
    "lph = []\n",
    "\n",
    "pis = []\n",
    "kas = []\n",
    "mus = []\n",
    "els = []\n",
    "phs = []\n",
    "\n",
    "for collision in collisions:\n",
    "    \n",
    "    pions,kaons,muons,electrons,photons = collision\n",
    "    \n",
    "    npi = len(pions)\n",
    "    nka = len(kaons)\n",
    "    nmu = len(muons)\n",
    "    nel = len(electrons)\n",
    "    nph = len(photons)\n",
    "    \n",
    "    lp.append(npi)\n",
    "    lk.append(nka)\n",
    "    lm.append(nmu)\n",
    "    le.append(nel)\n",
    "    lph.append(nph)\n",
    "    \n",
    "    for pion in pions:\n",
    "        \n",
    "        pis.append(pion)\n",
    "    \n",
    "    for kaon in kaons:\n",
    "        \n",
    "        kas.append(kaon)\n",
    "        \n",
    "    for muon in muons:\n",
    "        \n",
    "        mus.append(muon)\n",
    "    \n",
    "    for electron in electrons:\n",
    "        \n",
    "        els.append(electron)\n",
    "    \n",
    "    for photon in photons:\n",
    "        \n",
    "        phs.append(photon)\n",
    "    \n",
    "    #print \"event %i: |\" % (i), \"pions: %i | kaons: %i | muons: %i | electrons: %i | photons: %i | \" % (npi,nka,nmu,nel,nph)\n"
   ]
  },
  {
   "cell_type": "code",
   "execution_count": 6,
   "metadata": {
    "collapsed": false
   },
   "outputs": [],
   "source": [
    "with h5py.File('cleo_test','a') as hf:\n",
    "    hf.create_dataset('npions',data=lp)\n",
    "    hf.create_dataset('nkaons',data=lk)\n",
    "    hf.create_dataset('nmuons',data=lm)\n",
    "    hf.create_dataset('nelectrons',data=le)\n",
    "    hf.create_dataset('lphotons',data=lph)\n",
    "    \n",
    "    g1 = hf.create_group('particles')\n",
    "    \n",
    "    g1.create_dataset('pions',data=pis)\n",
    "    g1.create_dataset('kaons',data=kas)\n",
    "    g1.create_dataset('muons',data=mus)\n",
    "    g1.create_dataset('electrons',data=els)\n",
    "    g1.create_dataset('photons',data=phs)"
   ]
  },
  {
   "cell_type": "code",
   "execution_count": 21,
   "metadata": {
    "collapsed": false
   },
   "outputs": [],
   "source": [
    "pis2 = []\n",
    "pos = []\n",
    "\n",
    "with h5py.File('cleo_test','r') as hf:\n",
    "    \n",
    "    npions = hf.get('npions')\n",
    "    \n",
    "    pions = hf.get('particles/pions')\n",
    "    \n",
    "    j = 0\n",
    "    \n",
    "    for i in npions:\n",
    "        j += i\n",
    "        pos.append(j)\n",
    "    \n",
    "    for k in range(0,len(npions)):\n",
    "        pis2.append(pions[k:k+1])\n",
    "        "
   ]
  },
  {
   "cell_type": "code",
   "execution_count": null,
   "metadata": {
    "collapsed": true
   },
   "outputs": [],
   "source": []
  },
  {
   "cell_type": "code",
   "execution_count": null,
   "metadata": {
    "collapsed": true
   },
   "outputs": [],
   "source": []
  }
 ],
 "metadata": {
  "kernelspec": {
   "display_name": "Python 2",
   "language": "python",
   "name": "python2"
  },
  "language_info": {
   "codemirror_mode": {
    "name": "ipython",
    "version": 2
   },
   "file_extension": ".py",
   "mimetype": "text/x-python",
   "name": "python",
   "nbconvert_exporter": "python",
   "pygments_lexer": "ipython2",
   "version": "2.7.11"
  }
 },
 "nbformat": 4,
 "nbformat_minor": 0
}
