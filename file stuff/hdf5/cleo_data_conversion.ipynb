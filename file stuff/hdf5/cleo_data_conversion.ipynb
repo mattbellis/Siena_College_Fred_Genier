{
 "cells": [
  {
   "cell_type": "code",
   "execution_count": 1,
   "metadata": {
    "collapsed": false
   },
   "outputs": [
    {
     "name": "stderr",
     "output_type": "stream",
     "text": [
      "/home/fred/anaconda2/lib/python2.7/site-packages/matplotlib/font_manager.py:273: UserWarning: Matplotlib is building the font cache using fc-list. This may take a moment.\n",
      "  warnings.warn('Matplotlib is building the font cache using fc-list. This may take a moment.')\n"
     ]
    }
   ],
   "source": [
    "import cleo_tools as cleo\n",
    "import numpy as np\n",
    "import h5py"
   ]
  },
  {
   "cell_type": "code",
   "execution_count": 2,
   "metadata": {
    "collapsed": false
   },
   "outputs": [],
   "source": [
    "infile = open('small_CLEO_test_file.dat')\n",
    "collisions = cleo.get_collisions(infile)\n",
    "\n",
    "#for i in range(0,1):\n",
    "#    collision = collisions[i]\n",
    "#    pions,kaons,muons,electrons,photons = collision\n",
    "#    print len(pions)"
   ]
  },
  {
   "cell_type": "code",
   "execution_count": 5,
   "metadata": {
    "collapsed": false
   },
   "outputs": [],
   "source": [
    "with h5py.File('cleo_test','a') as hf:\n",
    "    \n",
    "    for i in xrange(0,len(collisions)):\n",
    "        \n",
    "        ev = 'event%d' % (i)\n",
    "        \n",
    "        event = hf.create_group(ev)\n",
    "        pi = hf.create_group('%s/pions' % (ev))\n",
    "        ka = hf.create_group('%s/kaons' % (ev))\n",
    "        mu = hf.create_group('%s/muons' % (ev))\n",
    "        e = hf.create_group('%s/electrons' % (ev))\n",
    "        ph = hf.create_group('%s/photons' % (ev))\n",
    "        \n",
    "        collision = collisions[i]\n",
    "\n",
    "        pions,kaons,muons,electrons,photons = collision\n",
    "\n",
    "        for j in xrange(0,len(pions)):\n",
    "\n",
    "            npions = 'pion%s' % (j) \n",
    "\n",
    "            pion = pions[j]\n",
    "\n",
    "            pi.create_dataset(npions,data = pion)\n",
    "\n",
    "\n",
    "        for k in xrange(0,len(kaons)):\n",
    "\n",
    "            nkaons = 'kaon%s' % (k) \n",
    "\n",
    "            kaon = kaons[k]\n",
    "\n",
    "            ka.create_dataset(nkaons,data = kaon)\n",
    "\n",
    "        for l in xrange(0,len(muons)):\n",
    "\n",
    "            nmuons = 'muon%s' % (l)\n",
    "\n",
    "            muon = muons[l]\n",
    "\n",
    "            mu.create_dataset(nmuons,data = muon)\n",
    "\n",
    "        for m in xrange(0,len(electrons)):\n",
    "\n",
    "            nelectrons = 'electron%s' % (m)\n",
    "\n",
    "            electron = electrons[m]\n",
    "                \n",
    "            e.create_dataset(nelectrons,data = electron)\n",
    "\n",
    "        for n in xrange(0,len(photons)):\n",
    "\n",
    "            nphotons = 'photon%s' % (n)\n",
    "\n",
    "            photon = photons[n]\n",
    "            \n",
    "            ph.create_dataset(nphotons,data = photon)\n",
    "\n"
   ]
  },
  {
   "cell_type": "code",
   "execution_count": 4,
   "metadata": {
    "collapsed": false
   },
   "outputs": [],
   "source": [
    "!rm cleo_test"
   ]
  },
  {
   "cell_type": "code",
   "execution_count": 6,
   "metadata": {
    "collapsed": false
   },
   "outputs": [
    {
     "name": "stdout",
     "output_type": "stream",
     "text": [
      "pion2\n"
     ]
    }
   ],
   "source": [
    "print '%s' % (npions)"
   ]
  },
  {
   "cell_type": "code",
   "execution_count": 14,
   "metadata": {
    "collapsed": false
   },
   "outputs": [
    {
     "name": "stdout",
     "output_type": "stream",
     "text": [
      "[(u'pion0', <HDF5 dataset \"pion0\": shape (13,), type \"<f8\">), (u'pion1', <HDF5 dataset \"pion1\": shape (13,), type \"<f8\">), (u'pion2', <HDF5 dataset \"pion2\": shape (13,), type \"<f8\">)]\n"
     ]
    }
   ],
   "source": [
    "with h5py.File('cleo_test','r') as hf:\n",
    "    e1 = hf.get('event0/pions')\n",
    "    print e1.items()"
   ]
  },
  {
   "cell_type": "code",
   "execution_count": null,
   "metadata": {
    "collapsed": true
   },
   "outputs": [],
   "source": []
  }
 ],
 "metadata": {
  "kernelspec": {
   "display_name": "Python 2",
   "language": "python",
   "name": "python2"
  },
  "language_info": {
   "codemirror_mode": {
    "name": "ipython",
    "version": 2
   },
   "file_extension": ".py",
   "mimetype": "text/x-python",
   "name": "python",
   "nbconvert_exporter": "python",
   "pygments_lexer": "ipython2",
   "version": "2.7.11"
  }
 },
 "nbformat": 4,
 "nbformat_minor": 0
}
