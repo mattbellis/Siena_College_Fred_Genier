{
 "cells": [
  {
   "cell_type": "code",
   "execution_count": 1,
   "metadata": {
    "collapsed": true
   },
   "outputs": [],
   "source": [
    "import numpy as np\n",
    "import h5py\n",
    "from time import time"
   ]
  },
  {
   "cell_type": "code",
   "execution_count": 2,
   "metadata": {
    "collapsed": false
   },
   "outputs": [],
   "source": [
    "# write example\n",
    "#a1 = np.random.random(size=(1000,32))\n",
    "\n",
    "#with h5py.File('hdf5test.hdf5','w') as hf:\n",
    "#    hf.create_dataset('dset1',data=a1)"
   ]
  },
  {
   "cell_type": "code",
   "execution_count": 3,
   "metadata": {
    "collapsed": false,
    "scrolled": false
   },
   "outputs": [],
   "source": [
    "# read example\n",
    "\n",
    "#with h5py.File('hdf5test.hdf5','r') as hf:\n",
    "#    data = np.array(hf.get('dset1'))\n",
    "#    print np.sum(data)"
   ]
  },
  {
   "cell_type": "code",
   "execution_count": 8,
   "metadata": {
    "collapsed": false
   },
   "outputs": [],
   "source": [
    "rng = np.random.random(size=(100000,32))\n",
    "\n",
    "z = np.zeros(shape=(100000,32))\n",
    "\n",
    "ones = np.ones(shape=(100000,32))\n",
    "\n",
    "with h5py.File('nums.hdf5','w') as f:\n",
    "    f.create_dataset('dset1',data=rng,compression='gzip',compression_opts=9)\n",
    "    \n",
    "\n",
    "with h5py.File('zeroes.hdf5','w') as f:\n",
    "    f.create_dataset('dset1',data=z,compression='gzip',compression_opts=9)\n",
    "    \n",
    "\n",
    "with h5py.File('ones.hdf5','w') as f:\n",
    "    f.create_dataset('dset1',data=ones,compression='gzip',compression_opts=9)"
   ]
  },
  {
   "cell_type": "code",
   "execution_count": null,
   "metadata": {
    "collapsed": true
   },
   "outputs": [],
   "source": []
  }
 ],
 "metadata": {
  "kernelspec": {
   "display_name": "Python 2",
   "language": "python",
   "name": "python2"
  },
  "language_info": {
   "codemirror_mode": {
    "name": "ipython",
    "version": 2
   },
   "file_extension": ".py",
   "mimetype": "text/x-python",
   "name": "python",
   "nbconvert_exporter": "python",
   "pygments_lexer": "ipython2",
   "version": "2.7.11"
  }
 },
 "nbformat": 4,
 "nbformat_minor": 0
}
