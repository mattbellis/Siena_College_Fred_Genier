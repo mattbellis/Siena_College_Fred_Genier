{
 "cells": [
  {
   "cell_type": "code",
   "execution_count": 2,
   "metadata": {
    "collapsed": false
   },
   "outputs": [
    {
     "name": "stderr",
     "output_type": "stream",
     "text": [
      "/home/fred/anaconda2/lib/python2.7/site-packages/matplotlib/font_manager.py:273: UserWarning: Matplotlib is building the font cache using fc-list. This may take a moment.\n",
      "  warnings.warn('Matplotlib is building the font cache using fc-list. This may take a moment.')\n"
     ]
    }
   ],
   "source": [
    "import numpy as np\n",
    "import h5py\n",
    "import cleo_tools as cleo\n",
    "import time "
   ]
  },
  {
   "cell_type": "code",
   "execution_count": 3,
   "metadata": {
    "collapsed": false
   },
   "outputs": [],
   "source": [
    "#infile = open('small_CLEO_test_file.dat')\n",
    "infile = open('data31_100k_LARGE.dat')\n",
    "collisions = cleo.get_collisions(infile)\n",
    "\n",
    "def mass(e,px,py,pz):\n",
    "    m_i = (e**2)-(px**2)+(py**2)+(pz**2)\n",
    "    \n",
    "    if m_i >= 0:\n",
    "        m = np.sqrt(m_i)\n",
    "        \n",
    "    else:\n",
    "        m_i *= -1\n",
    "        m = np.sqrt(m_i)\n",
    "        \n",
    "    return m\n"
   ]
  },
  {
   "cell_type": "code",
   "execution_count": 3,
   "metadata": {
    "collapsed": false
   },
   "outputs": [
    {
     "name": "stdout",
     "output_type": "stream",
     "text": [
      "100001\n",
      "5\n",
      "49\n",
      "6\n",
      "4\n",
      "7\n",
      "206\n"
     ]
    }
   ],
   "source": [
    "print len(collisions)\n",
    "l0=[]\n",
    "l1=[]\n",
    "l2=[]\n",
    "l3=[]\n",
    "l4=[]\n",
    "l5=[]\n",
    "\n",
    "for collision in collisions:\n",
    "    \n",
    "    pions,kaons,muons,electrons,photons=collision\n",
    "    l0.append(len(collision))\n",
    "    l1.append(len(pions))\n",
    "    l2.append(len(kaons))\n",
    "    l3.append(len(muons))\n",
    "    l4.append(len(electrons))\n",
    "    l5.append(len(photons))\n",
    "    #for pion in pions:\n",
    "    #    print len(pion) \n",
    "        #13\n",
    "    \n",
    "print max(l0)\n",
    "print max(l1)\n",
    "print max(l2)\n",
    "print max(l3)\n",
    "print max(l4)\n",
    "print max(l5)"
   ]
  },
  {
   "cell_type": "code",
   "execution_count": 4,
   "metadata": {
    "collapsed": false
   },
   "outputs": [],
   "source": [
    "#data = np.zeros((100001,5,206,13))"
   ]
  },
  {
   "cell_type": "code",
   "execution_count": 5,
   "metadata": {
    "collapsed": false
   },
   "outputs": [
    {
     "name": "stdout",
     "output_type": "stream",
     "text": [
      "took 5.524714 seconds\n"
     ]
    }
   ],
   "source": [
    "'''\n",
    "t_i = time.time()\n",
    "\n",
    "for i in xrange(0,len(collisions)):\n",
    "    \n",
    "    collision = collisions[i]\n",
    "    \n",
    "    pions,kaons,muons,electrons,photons=collision\n",
    "    \n",
    "    for j in xrange(0,len(pions)):\n",
    "        \n",
    "        pion = pions[j]\n",
    "        \n",
    "        for j_1 in xrange(0,len(pion)):\n",
    "            \n",
    "            part = pion[j_1]\n",
    "            \n",
    "            data[i][0][j][j_1] = part\n",
    "            \n",
    "    for k in xrange(0,len(kaons)):\n",
    "        \n",
    "        kaon = kaons[k]\n",
    "        \n",
    "        for k_1 in xrange(0,len(kaon)):\n",
    "            \n",
    "            part = kaon[k_1]\n",
    "            \n",
    "            data[i][1][k][k_1] = part\n",
    "            \n",
    "    for l in xrange(0,len(muons)):\n",
    "        \n",
    "        muon = muons[l]\n",
    "        \n",
    "        for l_1 in xrange(0,len(muon)):\n",
    "            \n",
    "            part = muon[l_1]\n",
    "            \n",
    "            data[i][2][l][l_1] = part\n",
    "            \n",
    "    for m in xrange(0,len(electrons)):\n",
    "        \n",
    "        electron = electrons[m]\n",
    "        \n",
    "        for m_1 in xrange(0,len(electron)):\n",
    "            \n",
    "            part = electron[m_1]\n",
    "            \n",
    "            data[i][3][m][m_1] = part\n",
    "\n",
    "    for n in xrange(0,len(photons)):\n",
    "        \n",
    "        photon = photons[n]\n",
    "        \n",
    "        for n_1 in xrange(0,len(photon)):\n",
    "            \n",
    "            part = photon[n_1]\n",
    "            \n",
    "            data[i][4][n][n_1] = part\n",
    "    \n",
    "print \"took %f seconds\" % (time.time()-t_i)'''"
   ]
  },
  {
   "cell_type": "code",
   "execution_count": null,
   "metadata": {
    "collapsed": false
   },
   "outputs": [],
   "source": []
  },
  {
   "cell_type": "code",
   "execution_count": null,
   "metadata": {
    "collapsed": false
   },
   "outputs": [],
   "source": []
  },
  {
   "cell_type": "code",
   "execution_count": null,
   "metadata": {
    "collapsed": true
   },
   "outputs": [],
   "source": []
  },
  {
   "cell_type": "code",
   "execution_count": null,
   "metadata": {
    "collapsed": false
   },
   "outputs": [],
   "source": []
  },
  {
   "cell_type": "code",
   "execution_count": null,
   "metadata": {
    "collapsed": false
   },
   "outputs": [],
   "source": [
    "#stores particle information as a list of dictionaries. particle dictionaries point to subdictionaries which contain\n",
    "#keys for each component of the 4-vector.\n",
    "# eg: assuming i is a variable iterating through the list of dictionaries, calling i['pions'] would return a dictionary\n",
    "# containing keys for \"e,px,py,pz,...,etc.\"\n",
    "\n",
    "t_i = time.time()\n",
    "\n",
    "infile = open('small_CLEO_test_file.dat')\n",
    "#infile = open('data31_100k_LARGE.dat')\n",
    "collisions = cleo.get_collisions(infile)\n",
    "\n",
    "print \"time to read in is %f seconds\" % (time.time()-t_i)\n",
    "\n",
    "events = []\n",
    "\n",
    "for collision in collisions:\n",
    "    \n",
    "    pions,kaons,muons,electrons,photons = collision\n",
    "    \n",
    "    pis = []\n",
    "    kas = []\n",
    "    mus = []\n",
    "    els = []\n",
    "    phs = []\n",
    "    \n",
    "    for pion in pions:\n",
    "        e,px,py,pz=pion[0:4]\n",
    "        pidi = {\"e\":e,\"px\":px,\"py\":py,\"pz\":pz}\n",
    "        pis.append(pidi)\n",
    "    \n",
    "    for kaon in kaons:\n",
    "        e,px,py,pz=kaon[0:4]\n",
    "        kadi = {\"e\":e,\"px\":px,\"py\":py,\"pz\":pz}\n",
    "        kas.append(kadi)\n",
    "        \n",
    "    for muon in muons:\n",
    "        e,px,py,pz=muon[0:4]\n",
    "        mudi = {\"e\":e,\"px\":px,\"py\":py,\"pz\":pz}\n",
    "        mus.append(mudi)\n",
    "        \n",
    "    for electron in electrons:\n",
    "        e,px,py,pz=electron[0:4]\n",
    "        eldi = {\"e\":e,\"px\":px,\"py\":py,\"pz\":pz}\n",
    "        els.append(eldi)\n",
    "        \n",
    "    for photon in photons:\n",
    "        e,px,py,pz=photon[0:4]\n",
    "        phdi = {\"e\":e,\"px\":px,\"py\":py,\"pz\":pz}\n",
    "        phs.append(phdi)\n",
    "\n",
    "    event = {\"pions\":pis,\"kaons\":kas,\"muons\":mus,\"electrons\":els,\"photons\":phs}\n",
    "    \n",
    "    events.append(event)\n",
    "    \n",
    "print 'time to write:\\n%s' % (time.time()-t_i) "
   ]
  },
  {
   "cell_type": "code",
   "execution_count": null,
   "metadata": {
    "collapsed": false
   },
   "outputs": [],
   "source": [
    "#for i in events:\n",
    "#    parts = ['pions','kaons','muons','electrons','photons']\n",
    "#    for j in parts:\n",
    "#        for k in i[j]:\n",
    "#            e,px,py,pz=[0:4]\n",
    "\n",
    "t_i = time.time()\n",
    "\n",
    "masses = []\n",
    "    \n",
    "for event in events:\n",
    "    \n",
    "    es = 0\n",
    "    pxs = 0\n",
    "    pys = 0\n",
    "    pzs = 0\n",
    "    \n",
    "    for pion in event['pions']:\n",
    "        \n",
    "        es+=pion['e']\n",
    "        pxs+=pion['px']\n",
    "        pys+=pion['py']\n",
    "        pzs+=pion['pz']\n",
    "        \n",
    "    for kaon in event['kaons']:\n",
    "        \n",
    "        es+=kaon['e']\n",
    "        pxs+=kaon['px']\n",
    "        pys+=kaon['py']\n",
    "        pzs+=kaon['pz']\n",
    "    \n",
    "    for muon in event['muons']:\n",
    "        \n",
    "        es+=muon['e']\n",
    "        pxs+=muon['px']\n",
    "        pys+=muon['py']\n",
    "        pzs+=muon['pz']\n",
    "        \n",
    "    for electron in event['electrons']:\n",
    "        \n",
    "        es+=electron['e']\n",
    "        pxs+=electron['px']\n",
    "        pys+=electron['py']\n",
    "        pzs+=electron['pz']\n",
    "    \n",
    "    for photon in event['photons']:\n",
    "        \n",
    "        es+=photon['e']\n",
    "        pxs+=photon['px']\n",
    "        pys+=photon['py']\n",
    "        pzs+=photon['pz']\n",
    "    \n",
    "    masses.append(mass(es,pxs,pys,pzs))\n",
    "\n",
    "print 'time to calculate:\\n%f seconds' % (time.time()-t_i)"
   ]
  },
  {
   "cell_type": "code",
   "execution_count": 28,
   "metadata": {
    "collapsed": false
   },
   "outputs": [],
   "source": [
    "event = []\n",
    "\n",
    "with h5py.File('cleo_test.hdf5','r') as hf:\n",
    "    \n",
    "    pi_start = 0\n",
    "    k_start = 0\n",
    "    mu_start = 0\n",
    "    el_start = 0\n",
    "    ph_start = 0\n",
    "    \n",
    "    npions = hf.get('npions')\n",
    "    pions = hf.get('particles/pions')\n",
    "\n",
    "    nkaons = hf.get('nkaons')\n",
    "    kaons = hf.get('particles/kaons')\n",
    "    \n",
    "    nmuons = hf.get('nmuons')\n",
    "    muons = hf.get('particles/muons')\n",
    "    \n",
    "    nelectrons = hf.get('nelectrons')\n",
    "    electrons = hf.get('particles/electrons')\n",
    "    \n",
    "    nphotons = hf.get('nphotons')\n",
    "    photons = hf.get('particles/photons')\n",
    "    \n",
    "    for np in npions:\n",
    "        \n",
    "        pis = []\n",
    "        \n",
    "        pi_end = pi_start + np\n",
    "        event_pions = pions[pi_start:pi_end]\n",
    "        \n",
    "        for ep in event_pions:\n",
    "            pis.append(ep)\n",
    "            \n",
    "        pi_start = pi_end\n",
    "        \n",
    "        event.append(pis)\n",
    "        \n",
    "    \n",
    "    for nk in nkaons:\n",
    "        \n",
    "        kas = []\n",
    "        \n",
    "        k_end = k_start + nk\n",
    "        event_kaons = kaons[k_start:k_end]\n",
    "        \n",
    "        for ek in event_kaons:\n",
    "            kas.append(ek)\n",
    "            \n",
    "        k_start = k_end\n",
    "        \n",
    "    for nm in nmuons:\n",
    "        \n",
    "        mus = []\n",
    "        \n",
    "        mu_end = mu_start + nm\n",
    "        event_muons = muons[mu_start:mu_end]\n",
    "        \n",
    "        for em in event_muons:\n",
    "            mus.append(em)\n",
    "            \n",
    "        mu_start = mu_end\n",
    "        \n",
    "        event.append(mus)\n",
    "            \n",
    "    for ne in nelectrons:\n",
    "        \n",
    "        els = []\n",
    "        \n",
    "        el_end = el_start + ne\n",
    "        event_electrons = electrons[el_start:el_end]\n",
    "        \n",
    "        for ee in event_electrons:\n",
    "            els.append(ee)\n",
    "        \n",
    "        el_start = el_end\n",
    "        \n",
    "        event.append(els)\n",
    "        \n",
    "    for nph in nphotons:\n",
    "        \n",
    "        phs = []\n",
    "        \n",
    "        ph_end = ph_start + nph\n",
    "        event_photons = photons[ph_start:ph_end]\n",
    "        \n",
    "        for eph in event_photons:\n",
    "            phs.append(eph)\n",
    "        \n",
    "        ph_start = ph_end\n",
    "        \n",
    "        event.append(phs)"
   ]
  },
  {
   "cell_type": "code",
   "execution_count": null,
   "metadata": {
    "collapsed": false
   },
   "outputs": [],
   "source": []
  },
  {
   "cell_type": "code",
   "execution_count": null,
   "metadata": {
    "collapsed": false
   },
   "outputs": [],
   "source": []
  },
  {
   "cell_type": "code",
   "execution_count": null,
   "metadata": {
    "collapsed": false
   },
   "outputs": [],
   "source": []
  },
  {
   "cell_type": "code",
   "execution_count": null,
   "metadata": {
    "collapsed": true
   },
   "outputs": [],
   "source": []
  }
 ],
 "metadata": {
  "kernelspec": {
   "display_name": "Python 2",
   "language": "python",
   "name": "python2"
  },
  "language_info": {
   "codemirror_mode": {
    "name": "ipython",
    "version": 2
   },
   "file_extension": ".py",
   "mimetype": "text/x-python",
   "name": "python",
   "nbconvert_exporter": "python",
   "pygments_lexer": "ipython2",
   "version": "2.7.11"
  }
 },
 "nbformat": 4,
 "nbformat_minor": 0
}
