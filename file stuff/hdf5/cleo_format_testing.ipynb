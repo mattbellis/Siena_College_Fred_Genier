{
 "cells": [
  {
   "cell_type": "code",
   "execution_count": 1,
   "metadata": {
    "collapsed": false
   },
   "outputs": [
    {
     "name": "stderr",
     "output_type": "stream",
     "text": [
      "/home/fred/anaconda2/lib/python2.7/site-packages/matplotlib/font_manager.py:273: UserWarning: Matplotlib is building the font cache using fc-list. This may take a moment.\n",
      "  warnings.warn('Matplotlib is building the font cache using fc-list. This may take a moment.')\n"
     ]
    }
   ],
   "source": [
    "import numpy as np\n",
    "import h5py\n",
    "import cleo_tools as cleo\n",
    "import time "
   ]
  },
  {
   "cell_type": "code",
   "execution_count": 3,
   "metadata": {
    "collapsed": false
   },
   "outputs": [],
   "source": [
    "def mass(e,px,py,pz):\n",
    "    m_i = (e**2)-(px**2)+(py**2)+(pz**2)\n",
    "    \n",
    "    if m_i >= 0:\n",
    "        m = np.sqrt(m_i)\n",
    "        \n",
    "    else:\n",
    "        m_i *= -1\n",
    "        m = np.sqrt(m_i)\n",
    "        \n",
    "    return m"
   ]
  },
  {
   "cell_type": "code",
   "execution_count": 4,
   "metadata": {
    "collapsed": false
   },
   "outputs": [
    {
     "name": "stdout",
     "output_type": "stream",
     "text": [
      "took 1.772077 seconds\n"
     ]
    }
   ],
   "source": [
    "#hdf5 to dictionary wrapper\n",
    "\n",
    "t_i = time.time()\n",
    "\n",
    "with h5py.File('cleo_test.hdf5','r') as hf:\n",
    "    \n",
    "    npions = hf.get('npions').value\n",
    "    pions = hf.get('particles/pions').value\n",
    "\n",
    "    nkaons = hf.get('nkaons').value\n",
    "    kaons = hf.get('particles/kaons').value\n",
    "    \n",
    "    nmuons = hf.get('nmuons').value\n",
    "    muons = hf.get('particles/muons').value\n",
    "    \n",
    "    nelectrons = hf.get('nelectrons').value\n",
    "    electrons = hf.get('particles/electrons').value\n",
    "    \n",
    "    nphotons = hf.get('nphotons').value\n",
    "    photons = hf.get('particles/photons').value\n",
    "    \n",
    "    h5_events = []\n",
    "    pion = []\n",
    "    kaon = []\n",
    "    muon = []\n",
    "    electron = []\n",
    "    photon = []\n",
    "    \n",
    "    nlist = [npions,nkaons,nmuons,nelectrons,nphotons]\n",
    "    plist = [pions,kaons,muons,electrons,photons]\n",
    "    elist = [pion,kaon,muon,electron,photon]\n",
    "    \n",
    "    for i in range(0,len(nlist)):\n",
    "        \n",
    "        n_particles = nlist[i]\n",
    "        particles = plist[i]\n",
    "        outlist = elist[i]\n",
    "        \n",
    "        n_start = 0\n",
    "        \n",
    "        for j in n_particles:\n",
    "            \n",
    "            n_end = n_start + j\n",
    "\n",
    "            event_particles = particles[n_start:n_end]\n",
    "            \n",
    "            for k in event_particles:\n",
    "                \n",
    "                ep = []\n",
    "                ep.append(k)\n",
    "                \n",
    "            outlist.append(ep)\n",
    "            \n",
    "            n_start = n_end\n",
    "\n",
    "    for l in range(0,len(pion)):\n",
    "        \n",
    "        ev = []\n",
    "        \n",
    "        ev.append(pion[l])\n",
    "        ev.append(kaon[l])\n",
    "        ev.append(muon[l])\n",
    "        ev.append(electron[l])\n",
    "        ev.append(photon[l])\n",
    "\n",
    "        h5_events.append(ev)\n",
    "\n",
    "print 'took %f seconds' % (time.time()-t_i)"
   ]
  },
  {
   "cell_type": "code",
   "execution_count": 6,
   "metadata": {
    "collapsed": false
   },
   "outputs": [
    {
     "name": "stdout",
     "output_type": "stream",
     "text": [
      "took 1.725383 seconds\n"
     ]
    }
   ],
   "source": [
    "#convert above output to dictionaries\n",
    "\n",
    "#stores particle information as a list of dictionaries. particle dictionaries point to subdictionaries which contain\n",
    "#keys for each component of the 4-vector.\n",
    "# eg: assuming i is a variable iterating through the list of dictionaries, calling i['pions'] would return a dictionary\n",
    "# containing keys for \"e,px,py,pz,...,etc.\"\n",
    "t_i = time.time()\n",
    "\n",
    "d_events = []\n",
    "\n",
    "for i in h5_events:\n",
    "    \n",
    "    pions,kaons,muons,electrons,photons = i\n",
    "    \n",
    "    pis = []\n",
    "    kas = []\n",
    "    mus = []\n",
    "    els = []\n",
    "    phs = []\n",
    "    \n",
    "    for pion in pions:\n",
    "        e,px,py,pz=pion[0:4]\n",
    "        pidi = {\"e\":e,\"px\":px,\"py\":py,\"pz\":pz}\n",
    "        pis.append(pidi)\n",
    "    \n",
    "    for kaon in kaons:\n",
    "        e,px,py,pz=kaon[0:4]\n",
    "        kadi = {\"e\":e,\"px\":px,\"py\":py,\"pz\":pz}\n",
    "        kas.append(kadi)\n",
    "        \n",
    "    for muon in muons:\n",
    "        e,px,py,pz=muon[0:4]\n",
    "        mudi = {\"e\":e,\"px\":px,\"py\":py,\"pz\":pz}\n",
    "        mus.append(mudi)\n",
    "        \n",
    "    for electron in electrons:\n",
    "        e,px,py,pz=electron[0:4]\n",
    "        eldi = {\"e\":e,\"px\":px,\"py\":py,\"pz\":pz}\n",
    "        els.append(eldi)\n",
    "        \n",
    "    for photon in photons:\n",
    "        e,px,py,pz=photon[0:4]\n",
    "        phdi = {\"e\":e,\"px\":px,\"py\":py,\"pz\":pz}\n",
    "        phs.append(phdi)\n",
    "\n",
    "    ev = {\"pions\":pis,\"kaons\":kas,\"muons\":mus,\"electrons\":els,\"photons\":phs}\n",
    "    \n",
    "    d_events.append(ev)\n",
    "    \n",
    "print 'took %f seconds' % (time.time()-t_i) "
   ]
  },
  {
   "cell_type": "code",
   "execution_count": 8,
   "metadata": {
    "collapsed": false
   },
   "outputs": [
    {
     "name": "stdout",
     "output_type": "stream",
     "text": [
      "took 0.807806 seconds\n"
     ]
    }
   ],
   "source": [
    "#calculate masses using the above data storage method\n",
    "\n",
    "t_i = time.time()\n",
    "\n",
    "masses = []\n",
    "    \n",
    "for event in d_events:\n",
    "    \n",
    "    es = 0\n",
    "    pxs = 0\n",
    "    pys = 0\n",
    "    pzs = 0\n",
    "    \n",
    "    for pion in event['pions']:\n",
    "        \n",
    "        es+=pion['e']\n",
    "        pxs+=pion['px']\n",
    "        pys+=pion['py']\n",
    "        pzs+=pion['pz']\n",
    "        \n",
    "    for kaon in event['kaons']:\n",
    "        \n",
    "        es+=kaon['e']\n",
    "        pxs+=kaon['px']\n",
    "        pys+=kaon['py']\n",
    "        pzs+=kaon['pz']\n",
    "    \n",
    "    for muon in event['muons']:\n",
    "        \n",
    "        es+=muon['e']\n",
    "        pxs+=muon['px']\n",
    "        pys+=muon['py']\n",
    "        pzs+=muon['pz']\n",
    "        \n",
    "    for electron in event['electrons']:\n",
    "        \n",
    "        es+=electron['e']\n",
    "        pxs+=electron['px']\n",
    "        pys+=electron['py']\n",
    "        pzs+=electron['pz']\n",
    "    \n",
    "    for photon in event['photons']:\n",
    "\n",
    "        es+=photon['e']\n",
    "        pxs+=photon['px']\n",
    "        pys+=photon['py']\n",
    "        pzs+=photon['pz']\n",
    "    \n",
    "    masses.append(mass(es,pxs,pys,pzs))\n",
    "\n",
    "print 'took %f seconds' % (time.time()-t_i)"
   ]
  },
  {
   "cell_type": "code",
   "execution_count": null,
   "metadata": {
    "collapsed": false
   },
   "outputs": [],
   "source": [
    "# old multidimensional array method of storing data. didn't work because of various issues including file size and \n",
    "# read times\n",
    "\n",
    "'''\n",
    "#data = np.zeros((100001,5,206,13))\n",
    "\n",
    "t_i = time.time()\n",
    "\n",
    "for i in xrange(0,len(collisions)):\n",
    "    \n",
    "    collision = collisions[i]\n",
    "    \n",
    "    pions,kaons,muons,electrons,photons=collision\n",
    "    \n",
    "    for j in xrange(0,len(pions)):\n",
    "        \n",
    "        pion = pions[j]\n",
    "        \n",
    "        for j_1 in xrange(0,len(pion)):\n",
    "            \n",
    "            part = pion[j_1]\n",
    "            \n",
    "            data[i][0][j][j_1] = part\n",
    "            \n",
    "    for k in xrange(0,len(kaons)):\n",
    "        \n",
    "        kaon = kaons[k]\n",
    "        \n",
    "        for k_1 in xrange(0,len(kaon)):\n",
    "            \n",
    "            part = kaon[k_1]\n",
    "            \n",
    "            data[i][1][k][k_1] = part\n",
    "            \n",
    "    for l in xrange(0,len(muons)):\n",
    "        \n",
    "        muon = muons[l]\n",
    "        \n",
    "        for l_1 in xrange(0,len(muon)):\n",
    "            \n",
    "            part = muon[l_1]\n",
    "            \n",
    "            data[i][2][l][l_1] = part\n",
    "            \n",
    "    for m in xrange(0,len(electrons)):\n",
    "        \n",
    "        electron = electrons[m]\n",
    "        \n",
    "        for m_1 in xrange(0,len(electron)):\n",
    "            \n",
    "            part = electron[m_1]\n",
    "            \n",
    "            data[i][3][m][m_1] = part\n",
    "\n",
    "    for n in xrange(0,len(photons)):\n",
    "        \n",
    "        photon = photons[n]\n",
    "        \n",
    "        for n_1 in xrange(0,len(photon)):\n",
    "            \n",
    "            part = photon[n_1]\n",
    "            \n",
    "            data[i][4][n][n_1] = part\n",
    "    \n",
    "print \"took %f seconds\" % (time.time()-t_i)'''"
   ]
  }
 ],
 "metadata": {
  "kernelspec": {
   "display_name": "Python 2",
   "language": "python",
   "name": "python2"
  },
  "language_info": {
   "codemirror_mode": {
    "name": "ipython",
    "version": 2
   },
   "file_extension": ".py",
   "mimetype": "text/x-python",
   "name": "python",
   "nbconvert_exporter": "python",
   "pygments_lexer": "ipython2",
   "version": "2.7.11"
  }
 },
 "nbformat": 4,
 "nbformat_minor": 0
}
