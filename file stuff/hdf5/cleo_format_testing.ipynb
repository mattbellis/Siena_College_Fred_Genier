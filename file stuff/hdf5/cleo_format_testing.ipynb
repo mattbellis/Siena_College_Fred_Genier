{
 "cells": [
  {
   "cell_type": "code",
   "execution_count": 56,
   "metadata": {
    "collapsed": false
   },
   "outputs": [],
   "source": [
    "import numpy as np\n",
    "import h5py\n",
    "import cleo_tools as cleo\n",
    "import time "
   ]
  },
  {
   "cell_type": "code",
   "execution_count": 57,
   "metadata": {
    "collapsed": true
   },
   "outputs": [],
   "source": [
    "def mass(e,px,py,pz):\n",
    "    m_i = (e**2)+(px**2)+(py**2)+(pz**2)\n",
    "    m = np.sqrt(m_i)\n",
    "    return m"
   ]
  },
  {
   "cell_type": "code",
   "execution_count": 58,
   "metadata": {
    "collapsed": false
   },
   "outputs": [
    {
     "name": "stdout",
     "output_type": "stream",
     "text": [
      "time to write:\n",
      "0.0137388706207\n"
     ]
    }
   ],
   "source": [
    "#stores particle information as a list of dictionaries. particle dictionaries point to subdictionaries which contain\n",
    "#keys for each component of the 4-vector.\n",
    "# eg: assuming i is a variable iterating through the list of dictionaries, calling i['pions'] would return a dictionary\n",
    "# containing keys for \"e,px,py,pz,...,etc.\"\n",
    "\n",
    "t_i = time.time()\n",
    "\n",
    "infile = open('small_CLEO_test_file.dat')\n",
    "collisions = cleo.get_collisions(infile)\n",
    "\n",
    "\n",
    "events = []\n",
    "\n",
    "for collision in collisions:\n",
    "    \n",
    "    pions,kaons,muons,electrons,photons = collision\n",
    "    \n",
    "    pis = []\n",
    "    kas = []\n",
    "    mus = []\n",
    "    els = []\n",
    "    phs = []\n",
    "    \n",
    "    for pion in pions:\n",
    "        e,px,py,pz=pion[0:4]\n",
    "        pidi = {\"e\":e,\"px\":px,\"py\":py,\"pz\":pz}\n",
    "        pis.append(pidi)\n",
    "    \n",
    "    for kaon in kaons:\n",
    "        e,px,py,pz=kaon[0:4]\n",
    "        kadi = {\"e\":e,\"px\":px,\"py\":py,\"pz\":pz}\n",
    "        kas.append(kadi)\n",
    "        \n",
    "    for muon in muons:\n",
    "        e,px,py,pz=muon[0:4]\n",
    "        mudi = {\"e\":e,\"px\":px,\"py\":py,\"pz\":pz}\n",
    "        mus.append(mudi)\n",
    "        \n",
    "    for electron in electrons:\n",
    "        e,px,py,pz=electron[0:4]\n",
    "        eldi = {\"e\":e,\"px\":px,\"py\":py,\"pz\":pz}\n",
    "        els.append(eldi)\n",
    "        \n",
    "    for photon in photons:\n",
    "        e,px,py,pz=photon[0:4]\n",
    "        phdi = {\"e\":e,\"px\":px,\"py\":py,\"pz\":pz}\n",
    "        phs.append(phdi)\n",
    "\n",
    "    event = {\"pions\":pis,\"kaons\":kas,\"muons\":mus,\"electrons\":els,\"photons\":phs}\n",
    "    \n",
    "    events.append(event)\n",
    "    \n",
    "print 'time to write:\\n%s' % (time.time()-t_i) "
   ]
  },
  {
   "cell_type": "code",
   "execution_count": 61,
   "metadata": {
    "collapsed": false
   },
   "outputs": [
    {
     "name": "stdout",
     "output_type": "stream",
     "text": [
      "time to calculate:\n",
      "0.003654 seconds\n"
     ]
    }
   ],
   "source": [
    "#for i in events:\n",
    "#    parts = ['pions','kaons','muons','electrons','photons']\n",
    "#    for j in parts:\n",
    "#        for k in i[j]:\n",
    "#            e,px,py,pz=[0:4]\n",
    "\n",
    "t_i = time.time()\n",
    "\n",
    "masses = []\n",
    "    \n",
    "for event in events:\n",
    "    \n",
    "    es = 0\n",
    "    pxs = 0\n",
    "    pys = 0\n",
    "    pzs = 0\n",
    "    \n",
    "    for pion in event['pions']:\n",
    "        \n",
    "        es+=pion['e']\n",
    "        pxs+=pion['px']\n",
    "        pys+=pion['py']\n",
    "        pzs+=pion['pz']\n",
    "        \n",
    "    for kaon in event['kaons']:\n",
    "        \n",
    "        es+=kaon['e']\n",
    "        pxs+=kaon['px']\n",
    "        pys+=kaon['py']\n",
    "        pzs+=kaon['pz']\n",
    "    \n",
    "    for muon in event['muons']:\n",
    "        \n",
    "        es+=muon['e']\n",
    "        pxs+=muon['px']\n",
    "        pys+=muon['py']\n",
    "        pzs+=muon['pz']\n",
    "        \n",
    "    for electron in event['electrons']:\n",
    "        \n",
    "        es+=electron['e']\n",
    "        pxs+=electron['px']\n",
    "        pys+=electron['py']\n",
    "        pzs+=electron['pz']\n",
    "    \n",
    "    for photon in event['photons']:\n",
    "        \n",
    "        es+=photon['e']\n",
    "        pxs+=photon['px']\n",
    "        pys+=photon['py']\n",
    "        pzs+=photon['pz']\n",
    "    \n",
    "    masses.append(mass(es,pxs,pys,pzs))\n",
    "\n",
    "print 'time to calculate:\\n%f seconds' % (time.time()-t_i)"
   ]
  },
  {
   "cell_type": "code",
   "execution_count": null,
   "metadata": {
    "collapsed": true
   },
   "outputs": [],
   "source": []
  }
 ],
 "metadata": {
  "kernelspec": {
   "display_name": "Python 2",
   "language": "python",
   "name": "python2"
  },
  "language_info": {
   "codemirror_mode": {
    "name": "ipython",
    "version": 2
   },
   "file_extension": ".py",
   "mimetype": "text/x-python",
   "name": "python",
   "nbconvert_exporter": "python",
   "pygments_lexer": "ipython2",
   "version": "2.7.11"
  }
 },
 "nbformat": 4,
 "nbformat_minor": 0
}
