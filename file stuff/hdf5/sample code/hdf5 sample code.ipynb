{
 "cells": [
  {
   "cell_type": "code",
   "execution_count": 2,
   "metadata": {
    "collapsed": true
   },
   "outputs": [],
   "source": [
    "import numpy as np\n",
    "import h5py\n",
    "from time import time"
   ]
  },
  {
   "cell_type": "code",
   "execution_count": 1,
   "metadata": {
    "collapsed": false
   },
   "outputs": [
    {
     "ename": "NameError",
     "evalue": "name 'h5py' is not defined",
     "output_type": "error",
     "traceback": [
      "\u001b[1;31m---------------------------------------------------------------------------\u001b[0m",
      "\u001b[1;31mNameError\u001b[0m                                 Traceback (most recent call last)",
      "\u001b[1;32m<ipython-input-1-30cf58323ed7>\u001b[0m in \u001b[0;36m<module>\u001b[1;34m()\u001b[0m\n\u001b[0;32m      1\u001b[0m \u001b[1;31m# create an hdf5 file\u001b[0m\u001b[1;33m\u001b[0m\u001b[1;33m\u001b[0m\u001b[0m\n\u001b[1;32m----> 2\u001b[1;33m \u001b[0mf\u001b[0m \u001b[1;33m=\u001b[0m \u001b[0mh5py\u001b[0m\u001b[1;33m.\u001b[0m\u001b[0mFile\u001b[0m\u001b[1;33m(\u001b[0m\u001b[1;34m'filename.hdf5'\u001b[0m\u001b[1;33m,\u001b[0m\u001b[1;34m'w'\u001b[0m\u001b[1;33m)\u001b[0m\u001b[1;33m\u001b[0m\u001b[0m\n\u001b[0m\u001b[0;32m      3\u001b[0m \u001b[1;33m\u001b[0m\u001b[0m\n\u001b[0;32m      4\u001b[0m \u001b[1;32mfor\u001b[0m \u001b[0mi\u001b[0m \u001b[1;32min\u001b[0m \u001b[0mrange\u001b[0m\u001b[1;33m(\u001b[0m\u001b[1;36m0\u001b[0m\u001b[1;33m,\u001b[0m\u001b[1;36m10000\u001b[0m\u001b[1;33m)\u001b[0m\u001b[1;33m:\u001b[0m\u001b[1;33m\u001b[0m\u001b[0m\n\u001b[0;32m      5\u001b[0m     \u001b[0mname\u001b[0m \u001b[1;33m=\u001b[0m \u001b[1;34m\"mydataset%05d\"\u001b[0m \u001b[1;33m%\u001b[0m \u001b[1;33m(\u001b[0m\u001b[0mi\u001b[0m\u001b[1;33m)\u001b[0m\u001b[1;33m\u001b[0m\u001b[0m\n",
      "\u001b[1;31mNameError\u001b[0m: name 'h5py' is not defined"
     ]
    }
   ],
   "source": [
    "# create an hdf5 file\n",
    "f = h5py.File('filename.hdf5','w')\n",
    "\n",
    "for i in range(0,10000):\n",
    "    name = \"mydataset%05d\" % (i)\n",
    "    dset = f.create_dataset(name, (1,), dtype='f')\n",
    "    #dset = f.create_dataset(name)\n",
    "\n",
    "    dset.attrs['muons']  = np.array([[1.0,2.0,3.0,4.0], \n",
    "                            [1.0,2.0,3.0,4.0],\n",
    "                            [1.0,2.0,3.0,4.0],\n",
    "                            [1.0,2.0,3.0,4.0] ])\n",
    "\n",
    "    #print dset.attrs['muons']\n",
    "    #print dset.name\n",
    "\n",
    "f.close()"
   ]
  },
  {
   "cell_type": "code",
   "execution_count": null,
   "metadata": {
    "collapsed": false
   },
   "outputs": [],
   "source": [
    "# read in an hdf5 file\n",
    "\n",
    "f = h5py.File('filename.hdf5','r') \n",
    "\n",
    "tot = 0.0\n",
    "for v in f.values():\n",
    "\n",
    "    #print v\n",
    "    muons = v.attrs['muons']\n",
    "\n",
    "    #print sum(muons[0])\n",
    "    tot += sum(muons[0])\n",
    "\n",
    "print tot"
   ]
  },
  {
   "cell_type": "code",
   "execution_count": null,
   "metadata": {
    "collapsed": false
   },
   "outputs": [],
   "source": [
    "nevents = 100000\n",
    "nparticles = 16\n",
    "nentries  = 8\n",
    "\n",
    "start = time()\n",
    "muons = np.random.random((nevents,nparticles,nentries))\n",
    "jets = np.random.random((nevents,nparticles,nentries))\n",
    "electrons = np.random.random((nevents,nparticles,nentries))\n",
    "dtime = time() - start\n",
    "print \"time to generate: %f s\" % (dtime)\n",
    "\n",
    "#muons[0][:,0] # Grab the first entries of the muons in the first event\n",
    "\n",
    "################################################################################\n",
    "import sys\n",
    "objsize = (sys.getsizeof(muons) + sys.getsizeof(jets) + sys.getsizeof(electrons))/1e9 \n",
    "\n",
    "print \"size of arrays: %.3f Gb\" % (objsize)\n",
    "################################################################################\n",
    "\n",
    "################################################################################\n",
    "start = time()\n",
    "'''\n",
    "events = {\"muons\":muons,\n",
    "          \"jets\":jets,\n",
    "          \"electrons\":jets}\n",
    "'''\n",
    "events = zip(muons,jets,electrons)\n",
    "\n",
    "dtime = time() - start\n",
    "print \"time to zip: %f s\" % (dtime)\n",
    "\n",
    "################################################################################\n",
    "\n",
    "start = time()\n",
    "masses = []\n",
    "for event in events:\n",
    "\n",
    "    ms,js,es = event\n",
    "\n",
    "    for muon in ms:\n",
    "        mass = (muon[0]**2 - muon[1]**2 - muon[2]**2 - muon[3]**2)\n",
    "        masses.append(mass)\n",
    "\n",
    "\n",
    "print len(masses)\n",
    "dtime = time() - start\n",
    "print \"time to process events: %f s\" % (dtime)"
   ]
  },
  {
   "cell_type": "code",
   "execution_count": null,
   "metadata": {
    "collapsed": true
   },
   "outputs": [],
   "source": []
  }
 ],
 "metadata": {
  "kernelspec": {
   "display_name": "Python 2",
   "language": "python",
   "name": "python2"
  },
  "language_info": {
   "codemirror_mode": {
    "name": "ipython",
    "version": 2
   },
   "file_extension": ".py",
   "mimetype": "text/x-python",
   "name": "python",
   "nbconvert_exporter": "python",
   "pygments_lexer": "ipython2",
   "version": "2.7.11"
  }
 },
 "nbformat": 4,
 "nbformat_minor": 0
}
